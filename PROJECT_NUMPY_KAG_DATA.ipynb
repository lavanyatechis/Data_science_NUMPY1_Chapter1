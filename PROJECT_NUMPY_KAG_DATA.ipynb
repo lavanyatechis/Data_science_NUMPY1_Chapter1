{
  "nbformat": 4,
  "nbformat_minor": 0,
  "metadata": {
    "colab": {
      "name": "PROJECT_NUMPY_KAG_DATA.ipynb",
      "provenance": []
    },
    "kernelspec": {
      "name": "python3",
      "display_name": "Python 3"
    },
    "language_info": {
      "name": "python"
    }
  },
  "cells": [
    {
      "cell_type": "markdown",
      "metadata": {
        "id": "RRnLiE96Cvgu"
      },
      "source": [
        "Load the data. Data is already given to you in variable path"
      ]
    },
    {
      "cell_type": "code",
      "metadata": {
        "id": "E8M8muvND8u7"
      },
      "source": [
        "import numpy as np\n",
        "\n"
      ],
      "execution_count": 1,
      "outputs": []
    },
    {
      "cell_type": "code",
      "metadata": {
        "colab": {
          "base_uri": "https://localhost:8080/"
        },
        "id": "TYZfZBo5Du3x",
        "outputId": "be861e57-132e-427f-925d-312e58db4426"
      },
      "source": [
        "data = '/content/KAG_Conversion_Data.csv'\n",
        "data = np.genfromtxt(data, delimiter=\",\", skip_header=1,dtype=str)\n",
        "print(data)"
      ],
      "execution_count": 2,
      "outputs": [
        {
          "output_type": "stream",
          "name": "stdout",
          "text": [
            "[['708746' '916' '103916' ... '1.429999948' '2' '1']\n",
            " ['708749' '916' '103917' ... '1.820000023' '2' '0']\n",
            " ['708771' '916' '103920' ... '0' '1' '0']\n",
            " ...\n",
            " ['1314412' '1178' '179979' ... '40.28999949' '2' '0']\n",
            " ['1314414' '1178' '179981' ... '198.7100005' '8' '2']\n",
            " ['1314415' '1178' '179982' ... '165.6099987' '5' '2']]\n"
          ]
        }
      ]
    },
    {
      "cell_type": "markdown",
      "metadata": {
        "id": "CrBmlGJuD7Mf"
      },
      "source": [
        "How many unique ad campaigns (xyzcampaignid) does this data contain ? And for how many times was each campaign run ?"
      ]
    },
    {
      "cell_type": "code",
      "metadata": {
        "colab": {
          "base_uri": "https://localhost:8080/"
        },
        "id": "U-wFrZ9jFYz6",
        "outputId": "e062f017-e4dd-4b39-97f2-bbfb92a6b8c6"
      },
      "source": [
        "unique = np.unique(data[:,1],return_counts=True)\n",
        "unique_val = unique[0].astype(int)\n",
        "unique_count = unique[1]\n",
        "print(\"UNIQUE VALUES : \",unique_val,\"\\nCOUNT : \",unique_count)"
      ],
      "execution_count": 3,
      "outputs": [
        {
          "output_type": "stream",
          "name": "stdout",
          "text": [
            "UNIQUE VALUES :  [1178  916  936] \n",
            "COUNT :  [625  54 464]\n"
          ]
        }
      ]
    },
    {
      "cell_type": "markdown",
      "metadata": {
        "id": "uCQwosSiFmUV"
      },
      "source": [
        "What are the age groups that were targeted through these ad campaigns?"
      ]
    },
    {
      "cell_type": "code",
      "metadata": {
        "colab": {
          "base_uri": "https://localhost:8080/"
        },
        "id": "WM8zpM5WFqmA",
        "outputId": "230bf174-09c3-46c1-fd0a-34a8cf78e8ef"
      },
      "source": [
        "age = data[:,3]\n",
        "age"
      ],
      "execution_count": 4,
      "outputs": [
        {
          "output_type": "execute_result",
          "data": {
            "text/plain": [
              "array(['30-34', '30-34', '30-34', ..., '45-49', '45-49', '45-49'],\n",
              "      dtype='<U11')"
            ]
          },
          "metadata": {},
          "execution_count": 4
        }
      ]
    },
    {
      "cell_type": "code",
      "metadata": {
        "colab": {
          "base_uri": "https://localhost:8080/"
        },
        "id": "SIiyW7t5Fu4k",
        "outputId": "95ab807d-f4e6-4c6f-e019-c9b354e3610e"
      },
      "source": [
        "print(np.unique(age))"
      ],
      "execution_count": 5,
      "outputs": [
        {
          "output_type": "stream",
          "name": "stdout",
          "text": [
            "['30-34' '35-39' '40-44' '45-49']\n"
          ]
        }
      ]
    },
    {
      "cell_type": "markdown",
      "metadata": {
        "id": "HIO0GpFuFyDw"
      },
      "source": [
        "What was the average, minimum and maximum amount spent on the ads?"
      ]
    },
    {
      "cell_type": "code",
      "metadata": {
        "colab": {
          "base_uri": "https://localhost:8080/"
        },
        "id": "87FIz2daHcuk",
        "outputId": "fcd0771f-eb21-41e9-9309-922230c46f80"
      },
      "source": [
        "amnt = data[:,8]\n",
        "amnt"
      ],
      "execution_count": 6,
      "outputs": [
        {
          "output_type": "execute_result",
          "data": {
            "text/plain": [
              "array(['1.429999948', '1.820000023', '0', ..., '40.28999949',\n",
              "       '198.7100005', '165.6099987'], dtype='<U11')"
            ]
          },
          "metadata": {},
          "execution_count": 6
        }
      ]
    },
    {
      "cell_type": "code",
      "metadata": {
        "colab": {
          "base_uri": "https://localhost:8080/"
        },
        "id": "2kEuKwbZHxou",
        "outputId": "1ed99b47-0825-4704-e2c0-19d68a016f1e"
      },
      "source": [
        "print(\"MIN : \",np.min(amnt.astype(float)))\n",
        "print(\"MAX : \",np.max(amnt.astype(float)))\n",
        "print(\"AVERAGE\",np.mean(amnt.astype(float)))"
      ],
      "execution_count": 7,
      "outputs": [
        {
          "output_type": "stream",
          "name": "stdout",
          "text": [
            "MIN :  0.0\n",
            "MAX :  639.9499981\n",
            "AVERAGE 51.36065613141295\n"
          ]
        }
      ]
    },
    {
      "cell_type": "markdown",
      "metadata": {
        "id": "hxC4TAJ3HjsS"
      },
      "source": [
        "What is the id of the ad having the maximum number of clicks ?"
      ]
    },
    {
      "cell_type": "code",
      "metadata": {
        "colab": {
          "base_uri": "https://localhost:8080/"
        },
        "id": "R7PmBUpKIFgP",
        "outputId": "79100cd3-2124-4d83-8e95-cc47b4e6b7e2"
      },
      "source": [
        "id = data[:,0]\n",
        "id"
      ],
      "execution_count": 8,
      "outputs": [
        {
          "output_type": "execute_result",
          "data": {
            "text/plain": [
              "array(['708746', '708749', '708771', ..., '1314412', '1314414', '1314415'],\n",
              "      dtype='<U11')"
            ]
          },
          "metadata": {},
          "execution_count": 8
        }
      ]
    },
    {
      "cell_type": "code",
      "metadata": {
        "colab": {
          "base_uri": "https://localhost:8080/"
        },
        "id": "hfRUMdDwIY2-",
        "outputId": "57b2f566-1552-4deb-ee7c-af3941239e18"
      },
      "source": [
        "clicks = data[:,7]\n",
        "print(\"max number of clicks \",np.max(clicks.astype(int)))"
      ],
      "execution_count": 9,
      "outputs": [
        {
          "output_type": "stream",
          "name": "stdout",
          "text": [
            "max number of clicks  421\n"
          ]
        }
      ]
    },
    {
      "cell_type": "code",
      "metadata": {
        "id": "ue6eh2EcIJJM"
      },
      "source": [
        "maxCLICKS = np.max(clicks.astype(int))"
      ],
      "execution_count": 10,
      "outputs": []
    },
    {
      "cell_type": "code",
      "metadata": {
        "colab": {
          "base_uri": "https://localhost:8080/"
        },
        "id": "0zeh9qbpJsQu",
        "outputId": "2ed3e88d-adef-4b1b-eb6f-36f524f6f5c7"
      },
      "source": [
        "index_of_maximum = np.where(clicks == maxCLICKS)\n",
        "index_of_maximum"
      ],
      "execution_count": 11,
      "outputs": [
        {
          "output_type": "stream",
          "name": "stderr",
          "text": [
            "/usr/local/lib/python3.7/dist-packages/ipykernel_launcher.py:1: FutureWarning: elementwise comparison failed; returning scalar instead, but in the future will perform elementwise comparison\n",
            "  \"\"\"Entry point for launching an IPython kernel.\n"
          ]
        },
        {
          "output_type": "execute_result",
          "data": {
            "text/plain": [
              "(array([], dtype=int64),)"
            ]
          },
          "metadata": {},
          "execution_count": 11
        }
      ]
    },
    {
      "cell_type": "code",
      "metadata": {
        "colab": {
          "base_uri": "https://localhost:8080/"
        },
        "id": "WpBmlObbKKHC",
        "outputId": "4c4abafb-e0e9-43d5-e65c-b021a1283789"
      },
      "source": [
        "index_of_maximum_click = list((clicks).astype(int)).index(maxCLICKS)\n",
        "print(id[index_of_maximum_click])"
      ],
      "execution_count": 12,
      "outputs": [
        {
          "output_type": "stream",
          "name": "stdout",
          "text": [
            "1121814\n"
          ]
        }
      ]
    },
    {
      "cell_type": "code",
      "metadata": {
        "colab": {
          "base_uri": "https://localhost:8080/"
        },
        "id": "B2OXNELSNPlo",
        "outputId": "d00dc6fe-c2e3-48e8-ea40-6703afe8b7f9"
      },
      "source": [
        "index_of_maximum = np.where(((clicks).astype(int)) == ((maxCLICKS).astype(int)))\n",
        "index_of_maximum\n",
        "\n"
      ],
      "execution_count": 16,
      "outputs": [
        {
          "output_type": "execute_result",
          "data": {
            "text/plain": [
              "(array([860]),)"
            ]
          },
          "metadata": {},
          "execution_count": 16
        }
      ]
    },
    {
      "cell_type": "code",
      "metadata": {
        "colab": {
          "base_uri": "https://localhost:8080/"
        },
        "id": "MoDR1QVVNpac",
        "outputId": "f2b2c420-9e12-4142-8f22-e0634d3ffccb"
      },
      "source": [
        "print(\" id of the ad having the maximum number of clicks\",data[860,:])"
      ],
      "execution_count": 37,
      "outputs": [
        {
          "output_type": "stream",
          "name": "stdout",
          "text": [
            " id of the ad having the maximum number of clicks ['1121814' '1178' '144659' '30-34' 'F' '27' '2223278' '421' '612.3000032'\n",
            " '38' '13']\n"
          ]
        }
      ]
    },
    {
      "cell_type": "markdown",
      "metadata": {
        "id": "6-DJGU_ryl-x"
      },
      "source": [
        "How many people bought the product after seeing the ad with most clicks? Is that the maximum number of purchases in this dataset?"
      ]
    },
    {
      "cell_type": "code",
      "metadata": {
        "colab": {
          "base_uri": "https://localhost:8080/"
        },
        "id": "RBHZwzAtyvEV",
        "outputId": "3a5a6ad2-267c-407d-c50e-38b116107b21"
      },
      "source": [
        "max_click_conversion = data[:,10][index_of_maximum_click ]\n",
        "max_conversion = np.max(data[:,10].astype(int))\n",
        "print(\"Conversion on maximum ad clicks : \",max_click_conversion)\n",
        "if max_click_conversion==max_conversion:\n",
        "  print(\"It is maximum purchase\")\n",
        "else:\n",
        "  print(\"It is not maximum purchase\")\n"
      ],
      "execution_count": 20,
      "outputs": [
        {
          "output_type": "stream",
          "name": "stdout",
          "text": [
            "Conversion on maximum ad clicks :  13\n",
            "It is not maximum purchase\n"
          ]
        }
      ]
    },
    {
      "cell_type": "markdown",
      "metadata": {
        "id": "ZdMDLmPx1lUu"
      },
      "source": [
        "NO It is not  the maximum number of purchases in this dataset"
      ]
    },
    {
      "cell_type": "markdown",
      "metadata": {
        "id": "F_1hv--fy5BB"
      },
      "source": [
        "So the ad with the most clicks didn't fetch the maximum number of purchases. Find the details of the product having maximum number of purchases"
      ]
    },
    {
      "cell_type": "code",
      "metadata": {
        "colab": {
          "base_uri": "https://localhost:8080/"
        },
        "id": "Ai9-YaVlzKrO",
        "outputId": "730e8511-2a2f-47cf-a939-83d9ac1b1132"
      },
      "source": [
        "\n",
        "max_num_purchases = data[:,10]\n",
        "print(\"max number of purchases\",np.max(max_num_purchases.astype(float)))"
      ],
      "execution_count": 24,
      "outputs": [
        {
          "output_type": "stream",
          "name": "stdout",
          "text": [
            "max number of purchases 21.0\n"
          ]
        }
      ]
    },
    {
      "cell_type": "code",
      "metadata": {
        "id": "yfjcBHdDziPp"
      },
      "source": [
        "maxpurchases = max_num_purchases"
      ],
      "execution_count": 25,
      "outputs": []
    },
    {
      "cell_type": "code",
      "metadata": {
        "id": "Mh82uM1oz1dg"
      },
      "source": [
        "max_value = np.max(max_num_purchases.astype(float))"
      ],
      "execution_count": 28,
      "outputs": []
    },
    {
      "cell_type": "code",
      "metadata": {
        "colab": {
          "base_uri": "https://localhost:8080/"
        },
        "id": "UM4B_2Fwz6R9",
        "outputId": "a009119f-b05d-41cb-d8c6-cd723288080e"
      },
      "source": [
        "index_of_maximum = np.where(((maxpurchases).astype(float)) == ((max_value).astype(int)))\n",
        "index_of_maximum"
      ],
      "execution_count": 34,
      "outputs": [
        {
          "output_type": "execute_result",
          "data": {
            "text/plain": [
              "(array([528]),)"
            ]
          },
          "metadata": {},
          "execution_count": 34
        }
      ]
    },
    {
      "cell_type": "code",
      "metadata": {
        "colab": {
          "base_uri": "https://localhost:8080/"
        },
        "id": "mSJ5RY1O0XPB",
        "outputId": "fd0034c6-900c-4b8b-fdf5-59ddbb1b3476"
      },
      "source": [
        "print(\" product having maximum number of purchases\",data[528,:])"
      ],
      "execution_count": 36,
      "outputs": [
        {
          "output_type": "stream",
          "name": "stdout",
          "text": [
            " product having maximum number of purchases ['1121104' '1178' '144533' '30-34' 'M' '16' '2080666' '202' '360.1500015'\n",
            " '40' '21']\n"
          ]
        }
      ]
    }
  ]
}